{
  "nbformat": 4,
  "nbformat_minor": 0,
  "metadata": {
    "colab": {
      "name": "VADER Scoring.ipynb",
      "provenance": []
    },
    "kernelspec": {
      "name": "python3",
      "display_name": "Python 3"
    },
    "language_info": {
      "name": "python"
    }
  },
  "cells": [
    {
      "cell_type": "code",
      "metadata": {
        "id": "ISnzvIPWpc5M"
      },
      "source": [
        "# Imports\n",
        "import urllib.request  \n",
        "import requests\n",
        "from bs4 import BeautifulSoup\n",
        "from urllib.request import Request, urlopen\n",
        "import io\n",
        "import math\n",
        "import pandas as pd\n",
        "import numpy as np\n",
        "import glob"
      ],
      "execution_count": null,
      "outputs": []
    },
    {
      "cell_type": "code",
      "metadata": {
        "id": "CH-OVzO_phTm"
      },
      "source": [
        "#Natural Language Processing Packages\n",
        "import re\n",
        "import nltk\n",
        "\n",
        "from nltk.sentiment import SentimentAnalyzer\n",
        "from nltk.sentiment.vader import SentimentIntensityAnalyzer"
      ],
      "execution_count": null,
      "outputs": []
    },
    {
      "cell_type": "code",
      "metadata": {
        "colab": {
          "base_uri": "https://localhost:8080/"
        },
        "id": "DigNl58yqp5u",
        "outputId": "c48c6609-6cbc-49e8-8946-1d2f2fb56cee"
      },
      "source": [
        "nltk.download('vader_lexicon')"
      ],
      "execution_count": null,
      "outputs": [
        {
          "output_type": "stream",
          "text": [
            "[nltk_data] Downloading package vader_lexicon to /root/nltk_data...\n",
            "[nltk_data]   Package vader_lexicon is already up-to-date!\n"
          ],
          "name": "stdout"
        },
        {
          "output_type": "execute_result",
          "data": {
            "text/plain": [
              "True"
            ]
          },
          "metadata": {
            "tags": []
          },
          "execution_count": 13
        }
      ]
    },
    {
      "cell_type": "code",
      "metadata": {
        "id": "5xsnwCg0Mt2K"
      },
      "source": [
        "path = r'/content' # use your path (local directory with CSV files in them if you are not using Google Colab)\n",
        "all_files = glob.glob(path + \"/*.csv\")\n",
        "\n",
        "li = []\n",
        "\n",
        "for filename in all_files:\n",
        "    df = pd.read_csv(filename, index_col=None, header=0)\n",
        "    li.append(df)\n",
        "\n",
        "frame = pd.concat(li, axis=0, ignore_index=True)"
      ],
      "execution_count": null,
      "outputs": []
    },
    {
      "cell_type": "code",
      "metadata": {
        "id": "1dKHMyWNpoCv"
      },
      "source": [
        "draft_analyst_df = frame.reindex(columns = frame.columns.tolist() + ['CHARACTERVADER', 'SKATINGVADER', 'PUCKSKILLVADER', 'SHOOTINGVADER'])"
      ],
      "execution_count": null,
      "outputs": []
    },
    {
      "cell_type": "code",
      "metadata": {
        "colab": {
          "base_uri": "https://localhost:8080/",
          "height": 306
        },
        "id": "GNHedDYgrvZW",
        "outputId": "b57db2aa-1163-4b22-b589-09616e987894"
      },
      "source": [
        "draft_analyst_df.head()"
      ],
      "execution_count": null,
      "outputs": [
        {
          "output_type": "execute_result",
          "data": {
            "text/html": [
              "<div>\n",
              "<style scoped>\n",
              "    .dataframe tbody tr th:only-of-type {\n",
              "        vertical-align: middle;\n",
              "    }\n",
              "\n",
              "    .dataframe tbody tr th {\n",
              "        vertical-align: top;\n",
              "    }\n",
              "\n",
              "    .dataframe thead th {\n",
              "        text-align: right;\n",
              "    }\n",
              "</style>\n",
              "<table border=\"1\" class=\"dataframe\">\n",
              "  <thead>\n",
              "    <tr style=\"text-align: right;\">\n",
              "      <th></th>\n",
              "      <th>Unnamed: 0</th>\n",
              "      <th>RANK</th>\n",
              "      <th>NAME</th>\n",
              "      <th>SOURCE</th>\n",
              "      <th>CHARACTER</th>\n",
              "      <th>SKATING</th>\n",
              "      <th>PUCK SKILL</th>\n",
              "      <th>SHOOTING</th>\n",
              "      <th>CHARACTERVADER</th>\n",
              "      <th>SKATINGVADER</th>\n",
              "      <th>PUCKSKILLVADER</th>\n",
              "      <th>SHOOTINGVADER</th>\n",
              "    </tr>\n",
              "  </thead>\n",
              "  <tbody>\n",
              "    <tr>\n",
              "      <th>0</th>\n",
              "      <td>0</td>\n",
              "      <td>1</td>\n",
              "      <td>Lafreniere, Alexis</td>\n",
              "      <td>DraftAnalyst 2020.pdf</td>\n",
              "      <td>['Lafreniere also is a team-first leader who h...</td>\n",
              "      <td>['Lafreniere is an excellent skater in all dir...</td>\n",
              "      <td>['What makes Lafreniere unique, however, is hi...</td>\n",
              "      <td>['From his deadly wrist shot to his superior p...</td>\n",
              "      <td>NaN</td>\n",
              "      <td>NaN</td>\n",
              "      <td>NaN</td>\n",
              "      <td>NaN</td>\n",
              "    </tr>\n",
              "    <tr>\n",
              "      <th>1</th>\n",
              "      <td>1</td>\n",
              "      <td>2</td>\n",
              "      <td>Byfield, Quinton</td>\n",
              "      <td>DraftAnalyst 2020.pdf</td>\n",
              "      <td>['Byfield combines obvious physical strengths ...</td>\n",
              "      <td>['He is as much a danger in tight spaces as he...</td>\n",
              "      <td>['On the power play, Byfield threads the needl...</td>\n",
              "      <td>['Byfield, however, is exceptionally crafty wi...</td>\n",
              "      <td>NaN</td>\n",
              "      <td>NaN</td>\n",
              "      <td>NaN</td>\n",
              "      <td>NaN</td>\n",
              "    </tr>\n",
              "    <tr>\n",
              "      <th>2</th>\n",
              "      <td>2</td>\n",
              "      <td>3</td>\n",
              "      <td>Stutzle, Tim</td>\n",
              "      <td>DraftAnalyst 2020.pdf</td>\n",
              "      <td>['His quickness on or off the puck is evident ...</td>\n",
              "      <td>['His first step is explosive; his skating sty...</td>\n",
              "      <td>['His quickness on or off the puck is evident ...</td>\n",
              "      <td>['His quickness on or off the puck is evident ...</td>\n",
              "      <td>NaN</td>\n",
              "      <td>NaN</td>\n",
              "      <td>NaN</td>\n",
              "      <td>NaN</td>\n",
              "    </tr>\n",
              "    <tr>\n",
              "      <th>3</th>\n",
              "      <td>3</td>\n",
              "      <td>4</td>\n",
              "      <td>Perfetti, Cole</td>\n",
              "      <td>DraftAnalyst 2020.pdf</td>\n",
              "      <td>['A lethal scorer who possesses an arsenal of ...</td>\n",
              "      <td>['He is a strong skater with excellent balance...</td>\n",
              "      <td>['Off the puck, he has very quick hands and a ...</td>\n",
              "      <td>['A lethal scorer who possesses an arsenal of ...</td>\n",
              "      <td>NaN</td>\n",
              "      <td>NaN</td>\n",
              "      <td>NaN</td>\n",
              "      <td>NaN</td>\n",
              "    </tr>\n",
              "    <tr>\n",
              "      <th>4</th>\n",
              "      <td>4</td>\n",
              "      <td>5</td>\n",
              "      <td>Rossi, Marco</td>\n",
              "      <td>DraftAnalyst 2020.pdf</td>\n",
              "      <td>['Rossi is a consistent breakaway threat, but ...</td>\n",
              "      <td>['Rossi is a consistent breakaway threat, but ...</td>\n",
              "      <td>['A dynamic playmaker with elite finishing ski...</td>\n",
              "      <td>['One of the more exciting forward prospects i...</td>\n",
              "      <td>NaN</td>\n",
              "      <td>NaN</td>\n",
              "      <td>NaN</td>\n",
              "      <td>NaN</td>\n",
              "    </tr>\n",
              "  </tbody>\n",
              "</table>\n",
              "</div>"
            ],
            "text/plain": [
              "   Unnamed: 0  RANK  ... PUCKSKILLVADER SHOOTINGVADER\n",
              "0           0     1  ...            NaN           NaN\n",
              "1           1     2  ...            NaN           NaN\n",
              "2           2     3  ...            NaN           NaN\n",
              "3           3     4  ...            NaN           NaN\n",
              "4           4     5  ...            NaN           NaN\n",
              "\n",
              "[5 rows x 12 columns]"
            ]
          },
          "metadata": {
            "tags": []
          },
          "execution_count": 26
        }
      ]
    },
    {
      "cell_type": "code",
      "metadata": {
        "id": "IhGoG2XmqQPF"
      },
      "source": [
        "# Initialize the Sentiment Analysis\n",
        "sid = SentimentIntensityAnalyzer()"
      ],
      "execution_count": null,
      "outputs": []
    },
    {
      "cell_type": "code",
      "metadata": {
        "id": "FN9hed0nqZp_"
      },
      "source": [
        "#Generate the Scores\n",
        "character = draft_analyst_df['CHARACTER'].values\n",
        "charatcer_score_list = []\n",
        "for i in character:\n",
        "  charatcer_score_list.append(sid.polarity_scores(i)['compound'])\n",
        "\n",
        "skating = draft_analyst_df['SKATING'].values\n",
        "skating_score_list = []\n",
        "for i in skating:\n",
        "  skating_score_list.append(sid.polarity_scores(i)['compound'])\n",
        "\n",
        "puck_skill = draft_analyst_df['PUCK SKILL'].values\n",
        "puck_skill_score_list = []\n",
        "for i in puck_skill:\n",
        "  puck_skill_score_list.append(sid.polarity_scores(i)['compound'])\n",
        "\n",
        "shooting_skill = draft_analyst_df['SHOOTING'].values\n",
        "shooting_skill_score_list = []\n",
        "for i in shooting_skill:\n",
        "  shooting_skill_score_list.append(sid.polarity_scores(i)['compound'])"
      ],
      "execution_count": null,
      "outputs": []
    },
    {
      "cell_type": "code",
      "metadata": {
        "id": "IqqqbM1HMDEH"
      },
      "source": [
        "draft_analyst_df['CHARACTERVADER'] = charatcer_score_list\n",
        "draft_analyst_df['SKATINGVADER'] = skating_score_list\n",
        "draft_analyst_df['PUCKSKILLVADER'] = puck_skill_score_list\n",
        "draft_analyst_df['SHOOTINGVADER'] = shooting_skill_score_list"
      ],
      "execution_count": null,
      "outputs": []
    },
    {
      "cell_type": "code",
      "metadata": {
        "colab": {
          "base_uri": "https://localhost:8080/",
          "height": 306
        },
        "id": "C9_T6vDIPs1y",
        "outputId": "5a863358-c2fc-46d7-8d19-3a32e2929fe1"
      },
      "source": [
        "draft_analyst_df.head()"
      ],
      "execution_count": null,
      "outputs": [
        {
          "output_type": "execute_result",
          "data": {
            "text/html": [
              "<div>\n",
              "<style scoped>\n",
              "    .dataframe tbody tr th:only-of-type {\n",
              "        vertical-align: middle;\n",
              "    }\n",
              "\n",
              "    .dataframe tbody tr th {\n",
              "        vertical-align: top;\n",
              "    }\n",
              "\n",
              "    .dataframe thead th {\n",
              "        text-align: right;\n",
              "    }\n",
              "</style>\n",
              "<table border=\"1\" class=\"dataframe\">\n",
              "  <thead>\n",
              "    <tr style=\"text-align: right;\">\n",
              "      <th></th>\n",
              "      <th>Unnamed: 0</th>\n",
              "      <th>RANK</th>\n",
              "      <th>NAME</th>\n",
              "      <th>SOURCE</th>\n",
              "      <th>CHARACTER</th>\n",
              "      <th>SKATING</th>\n",
              "      <th>PUCK SKILL</th>\n",
              "      <th>SHOOTING</th>\n",
              "      <th>CHARACTERVADER</th>\n",
              "      <th>SKATINGVADER</th>\n",
              "      <th>PUCKSKILLVADER</th>\n",
              "      <th>SHOOTINGVADER</th>\n",
              "    </tr>\n",
              "  </thead>\n",
              "  <tbody>\n",
              "    <tr>\n",
              "      <th>0</th>\n",
              "      <td>0</td>\n",
              "      <td>1</td>\n",
              "      <td>Lafreniere, Alexis</td>\n",
              "      <td>DraftAnalyst 2020.pdf</td>\n",
              "      <td>['Lafreniere also is a team-first leader who h...</td>\n",
              "      <td>['Lafreniere is an excellent skater in all dir...</td>\n",
              "      <td>['What makes Lafreniere unique, however, is hi...</td>\n",
              "      <td>['From his deadly wrist shot to his superior p...</td>\n",
              "      <td>0.9640</td>\n",
              "      <td>0.9050</td>\n",
              "      <td>0.8873</td>\n",
              "      <td>0.3818</td>\n",
              "    </tr>\n",
              "    <tr>\n",
              "      <th>1</th>\n",
              "      <td>1</td>\n",
              "      <td>2</td>\n",
              "      <td>Byfield, Quinton</td>\n",
              "      <td>DraftAnalyst 2020.pdf</td>\n",
              "      <td>['Byfield combines obvious physical strengths ...</td>\n",
              "      <td>['He is as much a danger in tight spaces as he...</td>\n",
              "      <td>['On the power play, Byfield threads the needl...</td>\n",
              "      <td>['Byfield, however, is exceptionally crafty wi...</td>\n",
              "      <td>0.9841</td>\n",
              "      <td>0.7506</td>\n",
              "      <td>0.9878</td>\n",
              "      <td>0.2382</td>\n",
              "    </tr>\n",
              "    <tr>\n",
              "      <th>2</th>\n",
              "      <td>2</td>\n",
              "      <td>3</td>\n",
              "      <td>Stutzle, Tim</td>\n",
              "      <td>DraftAnalyst 2020.pdf</td>\n",
              "      <td>['His quickness on or off the puck is evident ...</td>\n",
              "      <td>['His first step is explosive; his skating sty...</td>\n",
              "      <td>['His quickness on or off the puck is evident ...</td>\n",
              "      <td>['His quickness on or off the puck is evident ...</td>\n",
              "      <td>0.9811</td>\n",
              "      <td>0.7681</td>\n",
              "      <td>0.9597</td>\n",
              "      <td>0.9678</td>\n",
              "    </tr>\n",
              "    <tr>\n",
              "      <th>3</th>\n",
              "      <td>3</td>\n",
              "      <td>4</td>\n",
              "      <td>Perfetti, Cole</td>\n",
              "      <td>DraftAnalyst 2020.pdf</td>\n",
              "      <td>['A lethal scorer who possesses an arsenal of ...</td>\n",
              "      <td>['He is a strong skater with excellent balance...</td>\n",
              "      <td>['Off the puck, he has very quick hands and a ...</td>\n",
              "      <td>['A lethal scorer who possesses an arsenal of ...</td>\n",
              "      <td>-0.0262</td>\n",
              "      <td>0.9578</td>\n",
              "      <td>0.4902</td>\n",
              "      <td>0.5423</td>\n",
              "    </tr>\n",
              "    <tr>\n",
              "      <th>4</th>\n",
              "      <td>4</td>\n",
              "      <td>5</td>\n",
              "      <td>Rossi, Marco</td>\n",
              "      <td>DraftAnalyst 2020.pdf</td>\n",
              "      <td>['Rossi is a consistent breakaway threat, but ...</td>\n",
              "      <td>['Rossi is a consistent breakaway threat, but ...</td>\n",
              "      <td>['A dynamic playmaker with elite finishing ski...</td>\n",
              "      <td>['One of the more exciting forward prospects i...</td>\n",
              "      <td>0.9808</td>\n",
              "      <td>0.6310</td>\n",
              "      <td>0.7814</td>\n",
              "      <td>0.8432</td>\n",
              "    </tr>\n",
              "  </tbody>\n",
              "</table>\n",
              "</div>"
            ],
            "text/plain": [
              "   Unnamed: 0  RANK  ... PUCKSKILLVADER SHOOTINGVADER\n",
              "0           0     1  ...         0.8873        0.3818\n",
              "1           1     2  ...         0.9878        0.2382\n",
              "2           2     3  ...         0.9597        0.9678\n",
              "3           3     4  ...         0.4902        0.5423\n",
              "4           4     5  ...         0.7814        0.8432\n",
              "\n",
              "[5 rows x 12 columns]"
            ]
          },
          "metadata": {
            "tags": []
          },
          "execution_count": 30
        }
      ]
    },
    {
      "cell_type": "markdown",
      "metadata": {
        "id": "EUYwSw1kkPMo"
      },
      "source": [
        "Player Type Adjustment"
      ]
    },
    {
      "cell_type": "code",
      "metadata": {
        "id": "MTfrI3G8d4W9"
      },
      "source": [
        "forward_skill_df = pd.read_excel('Skill Adjustment.xlsx', sheet_name='Forward Adjustments', index_col=0)\n",
        "defense_skill_df = pd.read_excel('Skill Adjustment.xlsx', sheet_name='Defenseman Adjustments', index_col=0)"
      ],
      "execution_count": null,
      "outputs": []
    },
    {
      "cell_type": "code",
      "metadata": {
        "colab": {
          "base_uri": "https://localhost:8080/"
        },
        "id": "RAeWPsHcfLQ9",
        "outputId": "14d2cf0c-daeb-4ab6-a9fc-85d189d4c579"
      },
      "source": [
        "valid = False\n",
        "while valid is False:\n",
        "  position = input(\"Please enter 'F' for forward or 'D' for defense: \")\n",
        "  if position == 'F':\n",
        "    valid = True\n",
        "  elif position == 'D':\n",
        "    valid = True\n",
        "  else:\n",
        "    print(\"Invalid Input; valid inputs are only 'F' and 'D'\")\n",
        "\n",
        "valid = False\n",
        "while valid is False:\n",
        "  if position == 'F':\n",
        "    player_type = input(\"Please enter one of the following forward player types - 'TWF' for two-way forward, 'GRN' for energy player, 'PWF' for power forward, 'SNP' for sniper, 'PLY' for playmaker: \")\n",
        "    if player_type == 'TWF':\n",
        "      valid = True\n",
        "    elif player_type == 'GRN':\n",
        "      valid = True\n",
        "    elif player_type == 'PWF':\n",
        "      valid = True\n",
        "    elif player_type == 'SNP':\n",
        "      valid = True\n",
        "    elif player_type == 'PLY':\n",
        "      valid = True\n",
        "    else:\n",
        "      print(\"Invalid Input; valid inputs are 'TWF', 'GRN', 'PWF', 'SNP', 'PLY'\")\n",
        "  elif position == 'D':\n",
        "    player_type = input(\"Please enter one of the following defense player types - 'TWD' for two-way defenseman, 'DFD' for defensive defenseman, 'OFD' for offensive defenseman: \")\n",
        "    if player_type == 'TWD':\n",
        "      valid = True\n",
        "    elif player_type == 'DFD':\n",
        "      valid = True\n",
        "    elif player_type == 'OFD':\n",
        "      valid = True\n",
        "    else:\n",
        "      print(\"Invalid Input; valid inputs are 'TWD', 'OFD', 'DFD'\")\n",
        "\n",
        "draft_analyst_df['CHARACTERVADER'] = charatcer_score_list\n",
        "draft_analyst_df['SKATINGVADER'] = skating_score_list\n",
        "draft_analyst_df['PUCKSKILLVADER'] = puck_skill_score_list\n",
        "draft_analyst_df['SHOOTINGVADER'] = shooting_skill_score_list\n",
        "\n",
        "if position == 'F':\n",
        "  if player_type == 'TWF':\n",
        "    draft_analyst_df['CHARACTERVADER'] *= forward_skill_df.loc[\"Two-Way\",\"Character\"]\n",
        "    draft_analyst_df['SKATINGVADER'] *= forward_skill_df.loc[\"Two-Way\",\"Skating\"]\n",
        "    draft_analyst_df['PUCKSKILLVADER'] *= forward_skill_df.loc[\"Two-Way\",\"Puck Skill\"]\n",
        "    draft_analyst_df['SHOOTINGVADER'] *= forward_skill_df.loc[\"Two-Way\",\"Shot\"]\n",
        "  elif player_type == 'SNP':\n",
        "    draft_analyst_df['CHARACTERVADER'] *= forward_skill_df.loc[\"Sniper\",\"Character\"]\n",
        "    draft_analyst_df['SKATINGVADER'] *= forward_skill_df.loc[\"Sniper\",\"Skating\"]\n",
        "    draft_analyst_df['PUCKSKILLVADER'] *= forward_skill_df.loc[\"Sniper\",\"Puck Skill\"]\n",
        "    draft_analyst_df['SHOOTINGVADER'] *= forward_skill_df.loc[\"Sniper\",\"Shot\"]\n",
        "  elif player_type == 'GRN':\n",
        "    draft_analyst_df['CHARACTERVADER'] *= forward_skill_df.loc[\"Energy\",\"Character\"]\n",
        "    draft_analyst_df['SKATINGVADER'] *= forward_skill_df.loc[\"Energy\",\"Skating\"]\n",
        "    draft_analyst_df['PUCKSKILLVADER'] *= forward_skill_df.loc[\"Energy\",\"Puck Skill\"]\n",
        "    draft_analyst_df['SHOOTINGVADER'] *= forward_skill_df.loc[\"Energy\",\"Shot\"]\n",
        "  elif player_type == 'PWF':\n",
        "    draft_analyst_df['CHARACTERVADER'] *= forward_skill_df.loc[\"Power\",\"Character\"]\n",
        "    draft_analyst_df['SKATINGVADER'] *= forward_skill_df.loc[\"Power\",\"Skating\"]\n",
        "    draft_analyst_df['PUCKSKILLVADER'] *= forward_skill_df.loc[\"Power\",\"Puck Skill\"]\n",
        "    draft_analyst_df['SHOOTINGVADER'] *= forward_skill_df.loc[\"Power\",\"Shot\"]\n",
        "  elif player_type == 'PLY':\n",
        "    draft_analyst_df['CHARACTERVADER'] *= forward_skill_df.loc[\"Playmaker\",\"Character\"]\n",
        "    draft_analyst_df['SKATINGVADER'] *= forward_skill_df.loc[\"Playmaker\",\"Skating\"]\n",
        "    draft_analyst_df['PUCKSKILLVADER'] *= forward_skill_df.loc[\"Playmaker\",\"Puck Skill\"]\n",
        "    draft_analyst_df['SHOOTINGVADER'] *= forward_skill_df.loc[\"Playmaker\",\"Shot\"]\n",
        "elif position == 'D':\n",
        "  if player_type == 'TWD':\n",
        "    draft_analyst_df['CHARACTERVADER'] *= defense_skill_df.loc[\"Two-Way\",\"Character\"]\n",
        "    draft_analyst_df['SKATINGVADER'] *= defense_skill_df.loc[\"Two-Way\",\"Skating\"]\n",
        "    draft_analyst_df['PUCKSKILLVADER'] *= defense_skill_df.loc[\"Two-Way\",\"Puck Skill\"]\n",
        "    draft_analyst_df['SHOOTINGVADER'] *= defense_skill_df.loc[\"Two-Way\",\"Shot\"]\n",
        "  elif player_type == 'OFD':\n",
        "    draft_analyst_df['CHARACTERVADER'] *= defense_skill_df.loc[\"Offensive\",\"Character\"]\n",
        "    draft_analyst_df['SKATINGVADER'] *= defense_skill_df.loc[\"Offensive\",\"Skating\"]\n",
        "    draft_analyst_df['PUCKSKILLVADER'] *= defense_skill_df.loc[\"Offensive\",\"Puck Skill\"]\n",
        "    draft_analyst_df['SHOOTINGVADER'] *= defense_skill_df.loc[\"Offensive\",\"Shot\"]\n",
        "  elif player_type == 'DFD':\n",
        "    draft_analyst_df['CHARACTERVADER'] *= defense_skill_df.loc[\"Defensive\",\"Character\"]\n",
        "    draft_analyst_df['SKATINGVADER'] *= defense_skill_df.loc[\"Defensive\",\"Skating\"]\n",
        "    draft_analyst_df['PUCKSKILLVADER'] *= defense_skill_df.loc[\"Defensive\",\"Puck Skill\"]\n",
        "    draft_analyst_df['SHOOTINGVADER'] *= defense_skill_df.loc[\"Defensive\",\"Shot\"]"
      ],
      "execution_count": null,
      "outputs": [
        {
          "output_type": "stream",
          "text": [
            "Please enter 'F' for forward or 'D' for defense: F\n",
            "Please enter one of the following forward player types - 'TWF' for two-way forward, 'GRN' for energy player, 'PWF' for power forward, 'SNP' for sniper, 'PLY' for playmaker: PWF\n"
          ],
          "name": "stdout"
        }
      ]
    },
    {
      "cell_type": "code",
      "metadata": {
        "colab": {
          "base_uri": "https://localhost:8080/",
          "height": 306
        },
        "id": "HTBk4wxURGkL",
        "outputId": "a1000eb0-ade7-4f6d-c6a7-290a18e0bc62"
      },
      "source": [
        "draft_analyst_df['AVERAGEVADER'] = draft_analyst_df[['CHARACTERVADER', 'SKATINGVADER', 'PUCKSKILLVADER', 'SHOOTINGVADER']].mean(axis=1)\n",
        "draft_analyst_df.head()\n",
        "\n",
        "# If you want to sort by average scores\n",
        "#draft_analyst_df.sort_values(by=['AVERAGEVADER'], ascending=False)"
      ],
      "execution_count": null,
      "outputs": [
        {
          "output_type": "execute_result",
          "data": {
            "text/html": [
              "<div>\n",
              "<style scoped>\n",
              "    .dataframe tbody tr th:only-of-type {\n",
              "        vertical-align: middle;\n",
              "    }\n",
              "\n",
              "    .dataframe tbody tr th {\n",
              "        vertical-align: top;\n",
              "    }\n",
              "\n",
              "    .dataframe thead th {\n",
              "        text-align: right;\n",
              "    }\n",
              "</style>\n",
              "<table border=\"1\" class=\"dataframe\">\n",
              "  <thead>\n",
              "    <tr style=\"text-align: right;\">\n",
              "      <th></th>\n",
              "      <th>Unnamed: 0</th>\n",
              "      <th>RANK</th>\n",
              "      <th>NAME</th>\n",
              "      <th>SOURCE</th>\n",
              "      <th>CHARACTER</th>\n",
              "      <th>SKATING</th>\n",
              "      <th>PUCK SKILL</th>\n",
              "      <th>SHOOTING</th>\n",
              "      <th>CHARACTERVADER</th>\n",
              "      <th>SKATINGVADER</th>\n",
              "      <th>PUCKSKILLVADER</th>\n",
              "      <th>SHOOTINGVADER</th>\n",
              "      <th>AVERAGEVADER</th>\n",
              "    </tr>\n",
              "  </thead>\n",
              "  <tbody>\n",
              "    <tr>\n",
              "      <th>0</th>\n",
              "      <td>0</td>\n",
              "      <td>1</td>\n",
              "      <td>Lafreniere, Alexis</td>\n",
              "      <td>DraftAnalyst 2020.pdf</td>\n",
              "      <td>['Lafreniere also is a team-first leader who h...</td>\n",
              "      <td>['Lafreniere is an excellent skater in all dir...</td>\n",
              "      <td>['What makes Lafreniere unique, however, is hi...</td>\n",
              "      <td>['From his deadly wrist shot to his superior p...</td>\n",
              "      <td>1.9280</td>\n",
              "      <td>0.9050</td>\n",
              "      <td>1.7746</td>\n",
              "      <td>0.7636</td>\n",
              "      <td>1.342800</td>\n",
              "    </tr>\n",
              "    <tr>\n",
              "      <th>1</th>\n",
              "      <td>1</td>\n",
              "      <td>2</td>\n",
              "      <td>Byfield, Quinton</td>\n",
              "      <td>DraftAnalyst 2020.pdf</td>\n",
              "      <td>['Byfield combines obvious physical strengths ...</td>\n",
              "      <td>['He is as much a danger in tight spaces as he...</td>\n",
              "      <td>['On the power play, Byfield threads the needl...</td>\n",
              "      <td>['Byfield, however, is exceptionally crafty wi...</td>\n",
              "      <td>1.9682</td>\n",
              "      <td>0.7506</td>\n",
              "      <td>1.9756</td>\n",
              "      <td>0.4764</td>\n",
              "      <td>1.292700</td>\n",
              "    </tr>\n",
              "    <tr>\n",
              "      <th>2</th>\n",
              "      <td>2</td>\n",
              "      <td>3</td>\n",
              "      <td>Stutzle, Tim</td>\n",
              "      <td>DraftAnalyst 2020.pdf</td>\n",
              "      <td>['His quickness on or off the puck is evident ...</td>\n",
              "      <td>['His first step is explosive; his skating sty...</td>\n",
              "      <td>['His quickness on or off the puck is evident ...</td>\n",
              "      <td>['His quickness on or off the puck is evident ...</td>\n",
              "      <td>1.9622</td>\n",
              "      <td>0.7681</td>\n",
              "      <td>1.9194</td>\n",
              "      <td>1.9356</td>\n",
              "      <td>1.646325</td>\n",
              "    </tr>\n",
              "    <tr>\n",
              "      <th>3</th>\n",
              "      <td>3</td>\n",
              "      <td>4</td>\n",
              "      <td>Perfetti, Cole</td>\n",
              "      <td>DraftAnalyst 2020.pdf</td>\n",
              "      <td>['A lethal scorer who possesses an arsenal of ...</td>\n",
              "      <td>['He is a strong skater with excellent balance...</td>\n",
              "      <td>['Off the puck, he has very quick hands and a ...</td>\n",
              "      <td>['A lethal scorer who possesses an arsenal of ...</td>\n",
              "      <td>-0.0524</td>\n",
              "      <td>0.9578</td>\n",
              "      <td>0.9804</td>\n",
              "      <td>1.0846</td>\n",
              "      <td>0.742600</td>\n",
              "    </tr>\n",
              "    <tr>\n",
              "      <th>4</th>\n",
              "      <td>4</td>\n",
              "      <td>5</td>\n",
              "      <td>Rossi, Marco</td>\n",
              "      <td>DraftAnalyst 2020.pdf</td>\n",
              "      <td>['Rossi is a consistent breakaway threat, but ...</td>\n",
              "      <td>['Rossi is a consistent breakaway threat, but ...</td>\n",
              "      <td>['A dynamic playmaker with elite finishing ski...</td>\n",
              "      <td>['One of the more exciting forward prospects i...</td>\n",
              "      <td>1.9616</td>\n",
              "      <td>0.6310</td>\n",
              "      <td>1.5628</td>\n",
              "      <td>1.6864</td>\n",
              "      <td>1.460450</td>\n",
              "    </tr>\n",
              "  </tbody>\n",
              "</table>\n",
              "</div>"
            ],
            "text/plain": [
              "   Unnamed: 0  RANK  ... SHOOTINGVADER AVERAGEVADER\n",
              "0           0     1  ...        0.7636     1.342800\n",
              "1           1     2  ...        0.4764     1.292700\n",
              "2           2     3  ...        1.9356     1.646325\n",
              "3           3     4  ...        1.0846     0.742600\n",
              "4           4     5  ...        1.6864     1.460450\n",
              "\n",
              "[5 rows x 13 columns]"
            ]
          },
          "metadata": {
            "tags": []
          },
          "execution_count": 39
        }
      ]
    },
    {
      "cell_type": "code",
      "metadata": {
        "id": "FZYU5xFuPu-D"
      },
      "source": [
        "draft_analyst_df.to_csv('final_score.csv')"
      ],
      "execution_count": null,
      "outputs": []
    },
    {
      "cell_type": "code",
      "metadata": {
        "colab": {
          "base_uri": "https://localhost:8080/"
        },
        "id": "lVSli6GD9lO0",
        "outputId": "fa6124f8-3107-4515-b97d-702e6dfa23bf"
      },
      "source": [
        "test_df = draft_analyst_df[draft_analyst_df.SOURCE == \"DraftAnalyst 2020.pdf\" ]\n",
        "test_df.head()\n",
        "test_df.iloc[1,11]"
      ],
      "execution_count": null,
      "outputs": [
        {
          "output_type": "execute_result",
          "data": {
            "text/plain": [
              "0.4764"
            ]
          },
          "metadata": {
            "tags": []
          },
          "execution_count": 38
        }
      ]
    },
    {
      "cell_type": "markdown",
      "metadata": {
        "id": "qiIriKKGXTVg"
      },
      "source": [
        "Quantitative Combination Example with pick224.com statistics"
      ]
    },
    {
      "cell_type": "code",
      "metadata": {
        "id": "NA2mVvRzXWYN"
      },
      "source": [
        "example_df = pd.DataFrame({\n",
        "    'First Name': ['Quinton', 'Cole', 'Marco'],\n",
        "    'Last Name': ['Byfield', 'Perfetti', 'Rossi'],\n",
        "    'Games': [45, 61, 57],\n",
        "    'Goals': [32, 37, 39],\n",
        "    'SHOOTINGVADER': [test_df.iloc[1,11], test_df.iloc[3,11], test_df.iloc[4,11]]})\n",
        "example_df.head()"
      ],
      "execution_count": null,
      "outputs": []
    },
    {
      "cell_type": "markdown",
      "metadata": {
        "id": "_-5qaLKM_72v"
      },
      "source": [
        "While this is a very simple example, we could potentially interpret this information in a number of ways. For one, it could be that this scout was overly harsh on Byfield's shooting ability considering he had put up similar goal totals as Rossi and Perfetti in fewer games. Another way could be that the scout does not think Byfield's skills match his production, and perhaps also believes that his goal scoring from the OHL will not translate to the NHL, whereas the others have skills which are much better and could potentially translate.\n",
        "\n",
        "The point of this example is that even in a simplistic model, we can directly combine both the VADER scores and traditional statistics (Games, Goals, etc.) to create insights that may have otherwise not been as easily spotted."
      ]
    }
  ]
}